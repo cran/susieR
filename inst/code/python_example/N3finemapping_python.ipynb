{
 "cells": [
  {
   "cell_type": "markdown",
   "id": "c7ac5176-713f-4752-b055-607a22a6dc3e",
   "metadata": {},
   "source": [
    "# N3 fine-mapping example (Python)"
   ]
  },
  {
   "cell_type": "code",
   "execution_count": 1,
   "id": "571c6701-abff-4535-a25e-8c1bdf53d0a9",
   "metadata": {},
   "outputs": [],
   "source": [
    "import numpy as np\n",
    "import pandas as pd\n",
    "import rpy2.robjects as ro\n",
    "from rpy2.robjects.packages import importr, data\n",
    "from rpy2.robjects import numpy2ri\n",
    "susie = importr('susieR')"
   ]
  },
  {
   "cell_type": "code",
   "execution_count": 2,
   "id": "4395eb9b-af70-413a-adc5-edce1f5160fa",
   "metadata": {},
   "outputs": [],
   "source": [
    "conversion_rules = numpy2ri.converter + ro.default_converter\n",
    "with (conversion_rules).context():   \n",
    "    ro.r['set.seed'](1)\n",
    "    N3 = data(susie).fetch('N3finemapping')['N3finemapping']\n",
    "    N3_names = {v:i for i,v in enumerate(N3.names)}\n",
    "    n = N3[N3_names['X']].dim[0]"
   ]
  },
  {
   "cell_type": "code",
   "execution_count": 3,
   "id": "235c3ed5-4415-4301-956d-00615ff6bf48",
   "metadata": {},
   "outputs": [
    {
     "data": {
      "text/plain": [
       "(array([402, 652, 772]),)"
      ]
     },
     "execution_count": 3,
     "metadata": {},
     "output_type": "execute_result"
    }
   ],
   "source": [
    "b = N3[N3_names['true_coef']]\n",
    "np.where(np.array(b)[:,0] != 0)"
   ]
  },
  {
   "cell_type": "code",
   "execution_count": 4,
   "id": "f50d1770-94aa-4128-8f50-659d9e366d6b",
   "metadata": {},
   "outputs": [
    {
     "name": "stderr",
     "output_type": "stream",
     "text": [
      "R[write to console]: HINT: For estimate_residual_variance = TRUE, please check that R is the \"in-sample\" LD matrix; that is, the correlation matrix obtained using the exact same data matrix X that was used for the other summary statistics. Also note, when covariates are included in the univariate regressions that produced the summary statistics, also consider removing these effects from X before computing R.\n",
      "\n"
     ]
    },
    {
     "name": "stdout",
     "output_type": "stream",
     "text": [
      "  cs cs_log10bf cs_avg_r2 cs_min_r2\n",
      "1  2   4.033879 1.0000000 1.0000000\n",
      "2  1   6.744085 0.9634847 0.9634847\n",
      "3  3   3.461470 0.9293299 0.7545197\n",
      "                                                                                                     variable\n",
      "1                                                                                                         653\n",
      "2                                                                                                     773,777\n",
      "3 362,365,372,373,374,379,381,383,384,386,387,388,389,391,392,396,397,398,399,400,401,403,404,405,407,408,415\n",
      "\n"
     ]
    }
   ],
   "source": [
    "with (conversion_rules).context():   \n",
    "    sumstats = susie.univariate_regression(\n",
    "        N3[N3_names['X']],\n",
    "        np.array(N3[N3_names['Y']])[:,0]\n",
    "    )\n",
    "    z_scores = np.array(sumstats[0])/np.array(sumstats[1])\n",
    "    R = np.corrcoef(N3[N3_names['X']], rowvar=False)\n",
    "    fitted_rss1 = susie.susie_rss(\n",
    "        bhat=sumstats[0], \n",
    "        shat=sumstats[1], \n",
    "        R=R,\n",
    "        n=n,\n",
    "        var_y=np.var(np.array(N3[N3_names['Y']])[:,0]),\n",
    "        L=10,\n",
    "        estimate_residual_variance=True\n",
    "    )\n",
    "    print(ro.r.summary(fitted_rss1)[1])"
   ]
  },
  {
   "cell_type": "code",
   "execution_count": 5,
   "id": "f933cfd4-d5a8-4c3c-a197-289c50cad29d",
   "metadata": {},
   "outputs": [
    {
     "name": "stdout",
     "output_type": "stream",
     "text": [
      "[1] TRUE\n",
      "\n"
     ]
    }
   ],
   "source": [
    "with (conversion_rules).context():   \n",
    "    fitted = susie.susie(N3[N3_names['X']], \n",
    "                         np.array(N3[N3_names['Y']])[:,0], \n",
    "                         L=10\n",
    "                        )\n",
    "    print(ro.r['all.equal'](fitted[-2], fitted_rss1[-1]))"
   ]
  },
  {
   "cell_type": "code",
   "execution_count": 6,
   "id": "7666219b-cd4f-4bbc-9ac1-e26a56953042",
   "metadata": {},
   "outputs": [
    {
     "name": "stderr",
     "output_type": "stream",
     "text": [
      "R[write to console]: HINT: For estimate_residual_variance = TRUE, please check that R is the \"in-sample\" LD matrix; that is, the correlation matrix obtained using the exact same data matrix X that was used for the other summary statistics. Also note, when covariates are included in the univariate regressions that produced the summary statistics, also consider removing these effects from X before computing R.\n",
      "\n",
      "R[write to console]: WARNING: XtX is not symmetric; forcing XtX to be symmetric by replacing XtX with (XtX + t(XtX))/2\n",
      "\n",
      "R[write to console]: Error in Xty - s$XtXr : non-conformable arrays\n",
      "\n"
     ]
    },
    {
     "ename": "RRuntimeError",
     "evalue": "Error in Xty - s$XtXr : non-conformable arrays\n",
     "output_type": "error",
     "traceback": [
      "\u001b[0;31m---------------------------------------------------------------------------\u001b[0m",
      "\u001b[0;31mRRuntimeError\u001b[0m                             Traceback (most recent call last)",
      "Cell \u001b[0;32mIn[6], line 2\u001b[0m\n\u001b[1;32m      1\u001b[0m \u001b[38;5;28;01mwith\u001b[39;00m (conversion_rules)\u001b[38;5;241m.\u001b[39mcontext():   \n\u001b[0;32m----> 2\u001b[0m     fitted_rss2 \u001b[38;5;241m=\u001b[39m \u001b[43msusie\u001b[49m\u001b[38;5;241;43m.\u001b[39;49m\u001b[43msusie_rss\u001b[49m\u001b[43m(\u001b[49m\n\u001b[1;32m      3\u001b[0m \u001b[43m        \u001b[49m\u001b[43mz\u001b[49m\u001b[38;5;241;43m=\u001b[39;49m\u001b[43mz_scores\u001b[49m\u001b[43m,\u001b[49m\n\u001b[1;32m      4\u001b[0m \u001b[43m        \u001b[49m\u001b[43mR\u001b[49m\u001b[38;5;241;43m=\u001b[39;49m\u001b[43mR\u001b[49m\u001b[43m,\u001b[49m\n\u001b[1;32m      5\u001b[0m \u001b[43m        \u001b[49m\u001b[43mn\u001b[49m\u001b[38;5;241;43m=\u001b[39;49m\u001b[43mn\u001b[49m\u001b[43m,\u001b[49m\u001b[43m  \u001b[49m\n\u001b[1;32m      6\u001b[0m \u001b[43m        \u001b[49m\u001b[43mvar_y\u001b[49m\u001b[38;5;241;43m=\u001b[39;49m\u001b[43mnp\u001b[49m\u001b[38;5;241;43m.\u001b[39;49m\u001b[43mvar\u001b[49m\u001b[43m(\u001b[49m\u001b[43mnp\u001b[49m\u001b[38;5;241;43m.\u001b[39;49m\u001b[43marray\u001b[49m\u001b[43m(\u001b[49m\u001b[43mN3\u001b[49m\u001b[43m[\u001b[49m\u001b[43mN3_names\u001b[49m\u001b[43m[\u001b[49m\u001b[38;5;124;43m'\u001b[39;49m\u001b[38;5;124;43mY\u001b[39;49m\u001b[38;5;124;43m'\u001b[39;49m\u001b[43m]\u001b[49m\u001b[43m]\u001b[49m\u001b[43m)\u001b[49m\u001b[43m[\u001b[49m\u001b[43m:\u001b[49m\u001b[43m,\u001b[49m\u001b[38;5;241;43m0\u001b[39;49m\u001b[43m]\u001b[49m\u001b[43m)\u001b[49m\u001b[43m,\u001b[49m\n\u001b[1;32m      7\u001b[0m \u001b[43m        \u001b[49m\u001b[43mL\u001b[49m\u001b[38;5;241;43m=\u001b[39;49m\u001b[38;5;241;43m10\u001b[39;49m\u001b[43m,\u001b[49m\n\u001b[1;32m      8\u001b[0m \u001b[43m        \u001b[49m\u001b[43mestimate_residual_variance\u001b[49m\u001b[38;5;241;43m=\u001b[39;49m\u001b[38;5;28;43;01mTrue\u001b[39;49;00m\n\u001b[1;32m      9\u001b[0m \u001b[43m    \u001b[49m\u001b[43m)\u001b[49m\n",
      "File \u001b[0;32m~/miniforge3/envs/susie_rpy2/lib/python3.12/site-packages/rpy2/robjects/functions.py:208\u001b[0m, in \u001b[0;36mSignatureTranslatedFunction.__call__\u001b[0;34m(self, *args, **kwargs)\u001b[0m\n\u001b[1;32m    206\u001b[0m         v \u001b[38;5;241m=\u001b[39m kwargs\u001b[38;5;241m.\u001b[39mpop(k)\n\u001b[1;32m    207\u001b[0m         kwargs[r_k] \u001b[38;5;241m=\u001b[39m v\n\u001b[0;32m--> 208\u001b[0m \u001b[38;5;28;01mreturn\u001b[39;00m (\u001b[38;5;28;43msuper\u001b[39;49m\u001b[43m(\u001b[49m\u001b[43mSignatureTranslatedFunction\u001b[49m\u001b[43m,\u001b[49m\u001b[43m \u001b[49m\u001b[38;5;28;43mself\u001b[39;49m\u001b[43m)\u001b[49m\n\u001b[1;32m    209\u001b[0m \u001b[43m        \u001b[49m\u001b[38;5;241;43m.\u001b[39;49m\u001b[38;5;21;43m__call__\u001b[39;49m\u001b[43m(\u001b[49m\u001b[38;5;241;43m*\u001b[39;49m\u001b[43margs\u001b[49m\u001b[43m,\u001b[49m\u001b[43m \u001b[49m\u001b[38;5;241;43m*\u001b[39;49m\u001b[38;5;241;43m*\u001b[39;49m\u001b[43mkwargs\u001b[49m\u001b[43m)\u001b[49m)\n",
      "File \u001b[0;32m~/miniforge3/envs/susie_rpy2/lib/python3.12/site-packages/rpy2/robjects/functions.py:131\u001b[0m, in \u001b[0;36mFunction.__call__\u001b[0;34m(self, *args, **kwargs)\u001b[0m\n\u001b[1;32m    129\u001b[0m     \u001b[38;5;28;01melse\u001b[39;00m:\n\u001b[1;32m    130\u001b[0m         new_kwargs[k] \u001b[38;5;241m=\u001b[39m cv\u001b[38;5;241m.\u001b[39mpy2rpy(v)\n\u001b[0;32m--> 131\u001b[0m res \u001b[38;5;241m=\u001b[39m \u001b[38;5;28;43msuper\u001b[39;49m\u001b[43m(\u001b[49m\u001b[43mFunction\u001b[49m\u001b[43m,\u001b[49m\u001b[43m \u001b[49m\u001b[38;5;28;43mself\u001b[39;49m\u001b[43m)\u001b[49m\u001b[38;5;241;43m.\u001b[39;49m\u001b[38;5;21;43m__call__\u001b[39;49m\u001b[43m(\u001b[49m\u001b[38;5;241;43m*\u001b[39;49m\u001b[43mnew_args\u001b[49m\u001b[43m,\u001b[49m\u001b[43m \u001b[49m\u001b[38;5;241;43m*\u001b[39;49m\u001b[38;5;241;43m*\u001b[39;49m\u001b[43mnew_kwargs\u001b[49m\u001b[43m)\u001b[49m\n\u001b[1;32m    132\u001b[0m res \u001b[38;5;241m=\u001b[39m cv\u001b[38;5;241m.\u001b[39mrpy2py(res)\n\u001b[1;32m    133\u001b[0m \u001b[38;5;28;01mreturn\u001b[39;00m res\n",
      "File \u001b[0;32m~/miniforge3/envs/susie_rpy2/lib/python3.12/site-packages/rpy2/rinterface_lib/conversion.py:45\u001b[0m, in \u001b[0;36m_cdata_res_to_rinterface.<locals>._\u001b[0;34m(*args, **kwargs)\u001b[0m\n\u001b[1;32m     44\u001b[0m \u001b[38;5;28;01mdef\u001b[39;00m\u001b[38;5;250m \u001b[39m\u001b[38;5;21m_\u001b[39m(\u001b[38;5;241m*\u001b[39margs, \u001b[38;5;241m*\u001b[39m\u001b[38;5;241m*\u001b[39mkwargs):\n\u001b[0;32m---> 45\u001b[0m     cdata \u001b[38;5;241m=\u001b[39m \u001b[43mfunction\u001b[49m\u001b[43m(\u001b[49m\u001b[38;5;241;43m*\u001b[39;49m\u001b[43margs\u001b[49m\u001b[43m,\u001b[49m\u001b[43m \u001b[49m\u001b[38;5;241;43m*\u001b[39;49m\u001b[38;5;241;43m*\u001b[39;49m\u001b[43mkwargs\u001b[49m\u001b[43m)\u001b[49m\n\u001b[1;32m     46\u001b[0m     \u001b[38;5;66;03m# TODO: test cdata is of the expected CType\u001b[39;00m\n\u001b[1;32m     47\u001b[0m     \u001b[38;5;28;01mreturn\u001b[39;00m _cdata_to_rinterface(cdata)\n",
      "File \u001b[0;32m~/miniforge3/envs/susie_rpy2/lib/python3.12/site-packages/rpy2/rinterface.py:890\u001b[0m, in \u001b[0;36mSexpClosure.__call__\u001b[0;34m(self, *args, **kwargs)\u001b[0m\n\u001b[1;32m    883\u001b[0m     res \u001b[38;5;241m=\u001b[39m rmemory\u001b[38;5;241m.\u001b[39mprotect(\n\u001b[1;32m    884\u001b[0m         openrlib\u001b[38;5;241m.\u001b[39mrlib\u001b[38;5;241m.\u001b[39mR_tryEval(\n\u001b[1;32m    885\u001b[0m             call_r,\n\u001b[1;32m    886\u001b[0m             call_context\u001b[38;5;241m.\u001b[39m__sexp__\u001b[38;5;241m.\u001b[39m_cdata,\n\u001b[1;32m    887\u001b[0m             error_occured)\n\u001b[1;32m    888\u001b[0m     )\n\u001b[1;32m    889\u001b[0m     \u001b[38;5;28;01mif\u001b[39;00m error_occured[\u001b[38;5;241m0\u001b[39m]:\n\u001b[0;32m--> 890\u001b[0m         \u001b[38;5;28;01mraise\u001b[39;00m embedded\u001b[38;5;241m.\u001b[39mRRuntimeError(_rinterface\u001b[38;5;241m.\u001b[39m_geterrmessage())\n\u001b[1;32m    891\u001b[0m \u001b[38;5;28;01mreturn\u001b[39;00m res\n",
      "\u001b[0;31mRRuntimeError\u001b[0m: Error in Xty - s$XtXr : non-conformable arrays\n"
     ]
    }
   ],
   "source": [
    "with (conversion_rules).context():   \n",
    "    fitted_rss2 = susie.susie_rss(\n",
    "        z=z_scores,\n",
    "        R=R,\n",
    "        n=n,  \n",
    "        var_y=np.var(np.array(N3[N3_names['Y']])[:,0]),\n",
    "        L=10,\n",
    "        estimate_residual_variance=True\n",
    "    )\n"
   ]
  },
  {
   "cell_type": "code",
   "execution_count": 7,
   "id": "00063c8b-6af3-4d65-9314-4971264d0d08",
   "metadata": {},
   "outputs": [
    {
     "name": "stdout",
     "output_type": "stream",
     "text": [
      "R version 4.4.2 (2024-10-31)\n",
      "Platform: x86_64-conda-linux-gnu\n",
      "Running under: Red Hat Enterprise Linux 8.6 (Ootpa)\n",
      "\n",
      "Matrix products: default\n",
      "BLAS/LAPACK: /hpfs/userws/chiouj02/software/conda_envs/susie_rpy2/lib/libopenblasp-r0.3.29.so;  LAPACK version 3.12.0\n",
      "\n",
      "locale:\n",
      " [1] LC_CTYPE=en_US.UTF-8       LC_NUMERIC=C              \n",
      " [3] LC_TIME=en_US.UTF-8        LC_COLLATE=en_US.UTF-8    \n",
      " [5] LC_MONETARY=en_US.UTF-8    LC_MESSAGES=en_US.UTF-8   \n",
      " [7] LC_PAPER=en_US.UTF-8       LC_NAME=C                 \n",
      " [9] LC_ADDRESS=C               LC_TELEPHONE=C            \n",
      "[11] LC_MEASUREMENT=en_US.UTF-8 LC_IDENTIFICATION=C       \n",
      "\n",
      "time zone: America/New_York\n",
      "tzcode source: system (glibc)\n",
      "\n",
      "attached base packages:\n",
      "[1] tools     stats     graphics  grDevices utils     datasets  methods  \n",
      "[8] base     \n",
      "\n",
      "other attached packages:\n",
      "[1] susieR_0.12.35\n",
      "\n",
      "loaded via a namespace (and not attached):\n",
      " [1] crayon_1.5.3        mixsqp_0.3-54       vctrs_0.6.5        \n",
      " [4] cli_3.6.4           rlang_1.1.5         generics_0.1.3     \n",
      " [7] RcppZiggurat_0.1.6  RcppParallel_5.1.10 glue_1.8.0         \n",
      "[10] colorspace_2.1-1    plyr_1.8.9          scales_1.3.0       \n",
      "[13] grid_4.4.2          munsell_0.5.1       tibble_3.2.1       \n",
      "[16] lifecycle_1.0.4     compiler_4.4.2      dplyr_1.1.4        \n",
      "[19] irlba_2.3.5.1       Rcpp_1.0.14         pkgconfig_2.0.3    \n",
      "[22] Rfast_2.1.4         lattice_0.22-6      R6_2.6.1           \n",
      "[25] tidyselect_1.2.1    parallel_4.4.2      pillar_1.10.1      \n",
      "[28] magrittr_2.0.3      Matrix_1.7-2        gtable_0.3.6       \n",
      "[31] reshape_0.8.9       matrixStats_1.5.0   ggplot2_3.5.1      \n",
      "\n"
     ]
    }
   ],
   "source": [
    "print(ro.r.sessionInfo())"
   ]
  }
 ],
 "metadata": {
  "kernelspec": {
   "display_name": "susie_rpy2",
   "language": "python",
   "name": "susie_rpy2"
  },
  "language_info": {
   "codemirror_mode": {
    "name": "ipython",
    "version": 3
   },
   "file_extension": ".py",
   "mimetype": "text/x-python",
   "name": "python",
   "nbconvert_exporter": "python",
   "pygments_lexer": "ipython3",
   "version": "3.12.9"
  }
 },
 "nbformat": 4,
 "nbformat_minor": 5
}
